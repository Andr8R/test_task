{
 "cells": [
  {
   "cell_type": "markdown",
   "metadata": {},
   "source": [
    "### Task 2: Fruits\n",
    "FRUITS_EXPORT (Schema):\n",
    "<br>seller_info (table):\n",
    "- seller_id\n",
    "- fruit_id\n",
    "- fruit_weight (tons)\n",
    "\n",
    "<br>consumption_info (table):\n",
    "- fruit_id\n",
    "- seller_id\n",
    "- client_id\n",
    "- quantity_purchased_fruit (tons)"
   ]
  },
  {
   "cell_type": "markdown",
   "metadata": {},
   "source": [
    "2.1: How many tons worth of fruit does an average seller have? Query below:\n",
    "\n",
    "select avg(weight) \n",
    "<br>\n",
    "from (select seller_id, sum(fruit_weight) as weight from seller_info group by seller_id) \n",
    "<br>\n",
    "as avg_weight;"
   ]
  },
  {
   "cell_type": "markdown",
   "metadata": {},
   "source": [
    "2.2: How many sellers have at least one client who purchased their fruit? Query below:\n",
    "\n",
    "select count(distinct(seller_id))\n",
    "<br>\n",
    "from consumption_info \n"
   ]
  }
 ],
 "metadata": {
  "language_info": {
   "name": "python"
  },
  "orig_nbformat": 4
 },
 "nbformat": 4,
 "nbformat_minor": 2
}
