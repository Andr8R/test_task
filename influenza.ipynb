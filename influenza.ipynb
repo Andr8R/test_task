{
 "cells": [
  {
   "cell_type": "markdown",
   "metadata": {},
   "source": [
    "### Task 1: influenza\n",
    "Consider influenza epidemics for 2-person families. The probability is 21% that at least one\n",
    "has disease. The probability that the husband has contracted influenza is 15% while the\n",
    "probability that both the wife and husband have contracted the disease is 10%. What is the\n",
    "probability that the wife has influenza?"
   ]
  },
  {
   "cell_type": "markdown",
   "metadata": {},
   "source": [
    "Let's summarize problem's info for wife (W) and husband (H).\n",
    "\n",
    "<br> P(H) = 15% : probability that H has disease\n",
    "<br> P(H or W) = 21% : probability that at least one has disease (union)\n",
    "<br> P(H and W) = 10 % : probability that both have disease (intersection)\n",
    "<br> P(H or W) = P(H) + P(W) – p(H and W). Therefore:\n",
    "\n",
    "P(W) = P(H or W) - P(H) + P(H and W) = 21 - 15 + 10 = 16%\n",
    "<br> \n",
    "### Answer: wife has influenza with probability 16%."
   ]
  }
 ],
 "metadata": {
  "language_info": {
   "name": "python"
  },
  "orig_nbformat": 4
 },
 "nbformat": 4,
 "nbformat_minor": 2
}
